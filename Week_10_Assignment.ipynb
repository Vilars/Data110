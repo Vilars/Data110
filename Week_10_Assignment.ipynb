{
  "nbformat": 4,
  "nbformat_minor": 0,
  "metadata": {
    "colab": {
      "private_outputs": true,
      "provenance": [],
      "include_colab_link": true
    },
    "kernelspec": {
      "name": "python3",
      "display_name": "Python 3"
    },
    "language_info": {
      "name": "python"
    }
  },
  "cells": [
    {
      "cell_type": "markdown",
      "metadata": {
        "id": "view-in-github",
        "colab_type": "text"
      },
      "source": [
        "<a href=\"https://colab.research.google.com/github/Vilars/Data110/blob/main/Week_10_Assignment.ipynb\" target=\"_parent\"><img src=\"https://colab.research.google.com/assets/colab-badge.svg\" alt=\"Open In Colab\"/></a>"
      ]
    },
    {
      "cell_type": "markdown",
      "source": [
        "##  Install Necessary Packages"
      ],
      "metadata": {
        "id": "jvVHm5jEzK8m"
      }
    },
    {
      "cell_type": "code",
      "source": [
        "import matplotlib.pyplot as plt\n",
        "import pandas as pd\n",
        "import numpy as np\n",
        "import seaborn as sns\n"
      ],
      "metadata": {
        "id": "JlndH146v9yC"
      },
      "execution_count": null,
      "outputs": []
    },
    {
      "cell_type": "markdown",
      "source": [
        " # Improt the Dataset: dataMontgomerycountymd.gov"
      ],
      "metadata": {
        "id": "EloM6srRwTab"
      }
    },
    {
      "cell_type": "code",
      "execution_count": null,
      "metadata": {
        "id": "9FnQFBYHu4O0"
      },
      "outputs": [],
      "source": [
        "df=pd.read_csv('https://raw.githubusercontent.com/Reben80/Data110-22016/refs/heads/main/dataset/Daily_Arrests_20241001%20(1).csv')"
      ]
    },
    {
      "cell_type": "markdown",
      "source": [
        "##  Exploring Your Data with Pandas"
      ],
      "metadata": {
        "id": "P7ngb2cPzrFq"
      }
    },
    {
      "cell_type": "code",
      "source": [
        "df.head()\n",
        "df.info()\n",
        "df.describe()"
      ],
      "metadata": {
        "id": "tN4tQv5RwIvj"
      },
      "execution_count": null,
      "outputs": []
    },
    {
      "cell_type": "markdown",
      "source": [
        "# Checking for Missing Data\n",
        "\n",
        "- **`df.isnull().sum()`**: This command is used to check for missing values in the dataset.\n",
        "  - It returns the total count of `NaN` (null) values for each column.\n",
        "  \n",
        "Use this to identify which columns have missing data and how much, which is helpful in the data cleaning process.\n"
      ],
      "metadata": {
        "id": "HsbpjvTL0HW3"
      }
    },
    {
      "cell_type": "code",
      "source": [
        "df.isnull().sum()\n"
      ],
      "metadata": {
        "id": "7PqQwzizzNcl"
      },
      "execution_count": null,
      "outputs": []
    },
    {
      "cell_type": "markdown",
      "source": [
        "## Creating a Histogram of the 'AGE' Column"
      ],
      "metadata": {
        "id": "HE4ww9QX0STU"
      }
    },
    {
      "cell_type": "code",
      "source": [
        "plt.hist(df['AGE'])\n",
        "plt.xlabel('Age')\n",
        "plt.ylabel('Frequency')\n",
        "plt.title('Distribution of Age')\n",
        "plt.show()"
      ],
      "metadata": {
        "id": "INOBFLLe0vC8"
      },
      "execution_count": null,
      "outputs": []
    },
    {
      "cell_type": "code",
      "source": [
        "sns.kdeplot(df['AGE'])"
      ],
      "metadata": {
        "id": "2RFHxIhM081K"
      },
      "execution_count": null,
      "outputs": []
    },
    {
      "cell_type": "code",
      "source": [
        "df.head(30)"
      ],
      "metadata": {
        "id": "52QxbMOj1dlK"
      },
      "execution_count": null,
      "outputs": []
    },
    {
      "cell_type": "markdown",
      "source": [
        "# Correcting Date Format and Adding Day of the Week\n",
        "\n",
        "- **`df['ARREST DATE'] = pd.to_datetime(df['ARREST DATE'])`**: Converts the `ARREST DATE` column to a proper datetime format. This is important to ensure that dates are recognized correctly and can be used for time-based analysis.\n",
        "\n",
        "- **`df['dayOfWeek'] = df['ARREST DATE'].dt.dayofweek`**: Adds a new column `dayOfWeek` to indicate the day of the week for each arrest (`0` for Monday, `6` for Sunday). This helps with understanding patterns related to when most arrests happen.\n",
        "\n",
        "\n"
      ],
      "metadata": {
        "id": "ztk2_Sgq1vyq"
      }
    },
    {
      "cell_type": "code",
      "source": [
        "df['ARREST DATE']=pd.to_datetime(df['ARREST DATE'])\n",
        "df['dayOfWeek']=df['ARREST DATE'].dt.dayofweek\n",
        "df.info()\n",
        "df.describe()"
      ],
      "metadata": {
        "id": "AgBKJ8jv1vgI"
      },
      "execution_count": null,
      "outputs": []
    },
    {
      "cell_type": "markdown",
      "source": [
        "# Visualizing Arrests by Day of the Week"
      ],
      "metadata": {
        "id": "eCa714hT1qsb"
      }
    },
    {
      "cell_type": "code",
      "source": [
        "day_counts=df['dayOfWeek'].value_counts()\n",
        "# Map the day of the week index to its name\n",
        "day_names = ['Monday', 'Tuesday', 'Wednesday', 'Thursday', 'Friday', 'Saturday', 'Sunday']\n",
        "plt.bar(day_counts.index,day_counts)\n"
      ],
      "metadata": {
        "id": "f9Bihff_3dNw"
      },
      "execution_count": null,
      "outputs": []
    },
    {
      "cell_type": "markdown",
      "source": [
        "## Visualizing Arrests by Day of the Week Using a Horizontal Bar Chart"
      ],
      "metadata": {
        "id": "SneazcPa1t6T"
      }
    },
    {
      "cell_type": "code",
      "source": [
        "day_names = ['Monday', 'Tuesday', 'Wednesday', 'Thursday', 'Friday', 'Saturday', 'Sunday']\n",
        "plt.barh(day_names ,day_counts)"
      ],
      "metadata": {
        "id": "JbuGFnv65dET"
      },
      "execution_count": null,
      "outputs": []
    },
    {
      "cell_type": "markdown",
      "source": [
        "## Filtering Arrests Related to Driving Offenses\n",
        "\n",
        "- **`driving_df = df[df['OFFENSE'].str.contains('driving', case=False, na=False)]`**:\n",
        "  - This line of code filters the DataFrame `df` to create a new DataFrame called `driving_df`.\n",
        "  - It includes only rows where the `OFFENSE` column contains the word \"driving\".\n",
        "  - `case=False` means the search is **case-insensitive** (e.g., it will match \"Driving\" and \"driving\").\n",
        "  - `na=False` ensures that missing values (`NaN`) are excluded from the search.\n",
        "\n",
        "This filtered DataFrame, `driving_df`, now contains only records related to driving offenses, which can be used for a focused analysis of crimes involving driving.\n"
      ],
      "metadata": {
        "id": "RShrH6-v1158"
      }
    },
    {
      "cell_type": "code",
      "source": [
        "driving_df=df[df['OFFENSE'].str.contains('driving',case=False,na=False)]\n",
        "driving_df.head()"
      ],
      "metadata": {
        "id": "E33qCb4v6JA9"
      },
      "execution_count": null,
      "outputs": []
    },
    {
      "cell_type": "markdown",
      "source": [
        "# Visualizing Different Driving Offenses\n",
        "\n",
        "\n"
      ],
      "metadata": {
        "id": "R0R2lj9Z2L0g"
      }
    },
    {
      "cell_type": "code",
      "source": [
        "driving_offense_counts=driving_df['OFFENSE'].value_counts()\n",
        "plt.barh(driving_offense_counts.index,driving_offense_counts)"
      ],
      "metadata": {
        "id": "sPjbYVg27uwb"
      },
      "execution_count": null,
      "outputs": []
    },
    {
      "cell_type": "code",
      "source": [
        "plt.pie(driving_offense_counts, labels=driving_offense_counts.index, autopct='%1.1f%%')\n",
        "plt.title('Driving Related Offenses')\n",
        "plt.show()"
      ],
      "metadata": {
        "id": "pr6v-jL58b6S"
      },
      "execution_count": null,
      "outputs": []
    },
    {
      "cell_type": "markdown",
      "source": [
        "## Visualizing Age Distribution for Driving Offenses\n",
        "\n",
        "- **`sns.kdeplot(driving_df['AGE'])`**:\n",
        "  - This creates a **Kernel Density Estimate (KDE)** plot for the `AGE` column in the `driving_df` DataFrame.\n",
        "  - KDE plots are used to visualize the **probability density** of a continuous variable—in this case, the age of individuals involved in driving offenses.\n",
        "  \n",
        "This KDE plot gives insight into the **distribution of ages** for driving-related offenses, allowing us to see if certain age groups are more involved in these incidents.\n"
      ],
      "metadata": {
        "id": "X0VqkMmB2R5E"
      }
    },
    {
      "cell_type": "code",
      "source": [
        "sns.kdeplot(driving_df['AGE'])"
      ],
      "metadata": {
        "id": "L01AR1mh8XcT"
      },
      "execution_count": null,
      "outputs": []
    },
    {
      "cell_type": "code",
      "source": [
        "plt.hist(driving_df['AGE'])"
      ],
      "metadata": {
        "id": "bBYmQOzT9G-j"
      },
      "execution_count": null,
      "outputs": []
    },
    {
      "cell_type": "markdown",
      "source": [
        "__________\n",
        "__________\n"
      ],
      "metadata": {
        "id": "jq8jdXKi2fhM"
      }
    },
    {
      "cell_type": "code",
      "source": [
        "theft_df=df[df['OFFENSE'].str.contains('theft',case=False,na=False)]\n",
        "theft_df.head()"
      ],
      "metadata": {
        "id": "lFlBirZ629t4"
      },
      "execution_count": null,
      "outputs": []
    },
    {
      "cell_type": "markdown",
      "source": [
        "# Assignment: Analyzing Theft-Related Data\n",
        "\n",
        "## Overview\n",
        "In this assignment, you will explore theft-related offenses in the dataset provided. Your goal is to identify patterns, visualize the data, and draw meaningful insights from theft-related incidents.\n",
        "\n",
        "### Objectives\n",
        "- Filter the dataset to focus on theft-related offenses.\n",
        "- Analyze the characteristics of theft incidents, such as time, location, and age.\n",
        "- Create meaningful visualizations to present your findings.\n",
        "\n",
        "\n",
        "\n",
        "### Steps\n",
        "\n",
        "1. **Filter Theft-Related Offenses**\n",
        "   - Filter the dataset to include only rows where the `OFFENSE` column contains the word \"theft\".\n",
        "   - Create a new DataFrame called `theft_df` for this filtered data.\n",
        "\n",
        "\n",
        "2. **Exploratory Data Analysis (EDA)**\n",
        "   \n",
        "   - **Task**: Answer the following questions:\n",
        "     - What is the total number of theft incidents?\n",
        "     - What is the range of ages involved in theft offenses?\n",
        "\n",
        "3. **Visualizing Theft Offenses by Day of the Week**\n",
        "  \n",
        "    \n",
        "   - **Task**: Which day of the week has the highest number of theft arrests? What might be the reasons for this trend?\n",
        "\n",
        "4. **Age Distribution of Theft Offenders**\n",
        "   \n",
        "\n",
        "   - **Task**: Describe the age distribution. Which age group seems to be most involved in theft offenses?\n",
        "\n",
        "\n",
        "\n",
        "5. **Offense Analysis**\n",
        "   - Analyze the types of theft offenses.\n",
        "   - **Task**: Use `value_counts()` on the `OFFENSE` column to find out what kinds of theft are most common. Create a bar chart to visualize this.\n",
        "\n",
        "6. Can you make some other visualizaion related to theft offenses?\n",
        "  \n",
        "\n",
        "\n",
        "\n",
        "\n"
      ],
      "metadata": {
        "id": "c6kTSPir3Jae"
      }
    },
    {
      "cell_type": "code",
      "source": [
        "## Your Code Need to be Here\n"
      ],
      "metadata": {
        "id": "yewsJutr3I5A"
      },
      "execution_count": null,
      "outputs": []
    },
    {
      "cell_type": "markdown",
      "source": [
        "Theft offense"
      ],
      "metadata": {
        "id": "7BZO4wJ6l35c"
      }
    },
    {
      "cell_type": "code",
      "source": [
        "theft_df = df[df['OFFENSE'].str.contains('theft', case=False, na=False)]\n",
        "theft_df.head()"
      ],
      "metadata": {
        "id": "qQgFF8YFl7bz"
      },
      "execution_count": null,
      "outputs": []
    },
    {
      "cell_type": "markdown",
      "source": [
        "Total number of theft incident"
      ],
      "metadata": {
        "id": "_ODgsXhrn6Pd"
      }
    },
    {
      "cell_type": "code",
      "source": [
        "total_theft = len(theft_df)\n",
        "print(total_theft)"
      ],
      "metadata": {
        "id": "CEpCxS_Vn5kO"
      },
      "execution_count": null,
      "outputs": []
    },
    {
      "cell_type": "markdown",
      "source": [
        "Range of age involved"
      ],
      "metadata": {
        "id": "5lWFQ3TfvGwH"
      }
    },
    {
      "cell_type": "code",
      "source": [
        "theft_df.describe()"
      ],
      "metadata": {
        "id": "Vd3GqM3JvMjQ"
      },
      "execution_count": null,
      "outputs": []
    },
    {
      "cell_type": "markdown",
      "source": [
        "minimum age = 18\n",
        "\n",
        "maximum age = 67\n"
      ],
      "metadata": {
        "id": "loju_vJ_voPt"
      }
    },
    {
      "cell_type": "markdown",
      "source": [
        "Age range involved in theft"
      ],
      "metadata": {
        "id": "JqNdfqHrkaD-"
      }
    },
    {
      "cell_type": "code",
      "source": [
        "plt.hist(theft_df['AGE'], edgecolor = 'white')\n",
        "plt.title('Age Distribution of Theft Offenders')\n",
        "plt.xlabel('Age')\n",
        "plt.ylabel('Density')\n",
        "plt.show()"
      ],
      "metadata": {
        "id": "1N71OiIQkd4N"
      },
      "execution_count": null,
      "outputs": []
    },
    {
      "cell_type": "markdown",
      "source": [
        "Theft by days"
      ],
      "metadata": {
        "id": "lKBsKtDNlAmu"
      }
    },
    {
      "cell_type": "code",
      "source": [
        "day_counts = theft_df['dayOfWeek'].value_counts()\n",
        "day_names = ['Monday', 'Tuesday', 'Wednesday', 'Thursday', 'Friday', 'Saturday', 'Sunday']\n",
        "\n",
        "plt.bar(day_counts.index, day_counts)\n",
        "plt.xticks(range(7), day_names, rotation = 45)\n",
        "plt.xlabel('Day of the Week')\n",
        "plt.ylabel('Number of Arrests')\n",
        "plt.title('Theft Arrests by Day of the Week')\n",
        "plt.show()"
      ],
      "metadata": {
        "id": "AV1IIX1GlDuw"
      },
      "execution_count": null,
      "outputs": []
    },
    {
      "cell_type": "markdown",
      "source": [
        "Monday, wednesday and thursday are the days most theft occured. Most people stay home on weekends and be at work on weekdays and thieves must use that at their advantage that's why there's less theft arrest on weekends."
      ],
      "metadata": {
        "id": "V1S7IHs0qV-Z"
      }
    },
    {
      "cell_type": "markdown",
      "source": [
        "Theft age distribution"
      ],
      "metadata": {
        "id": "DgB1eXfQrydk"
      }
    },
    {
      "cell_type": "code",
      "source": [
        "plt.hist(theft_df['AGE'], edgecolor = 'white')\n",
        "plt.title('Age Distribution of Theft Offenders')\n",
        "plt.xlabel('Age')\n",
        "plt.ylabel('Density')\n",
        "plt.show()"
      ],
      "metadata": {
        "id": "3PFFveGUweo_"
      },
      "execution_count": null,
      "outputs": []
    },
    {
      "cell_type": "code",
      "source": [
        "sns.kdeplot(theft_df['AGE'])\n",
        "plt.title('Age Distribution of Theft Offenders')\n",
        "plt.xlabel('Age')\n",
        "plt.ylabel('Density')\n",
        "plt.show()"
      ],
      "metadata": {
        "id": "OYLkOLybtcpN"
      },
      "execution_count": null,
      "outputs": []
    },
    {
      "cell_type": "markdown",
      "source": [
        "There's a peak in the 20-25 group. we can say individuals in their early 20 are more involved in theft offense."
      ],
      "metadata": {
        "id": "9-4oj8_2xMYl"
      }
    },
    {
      "cell_type": "markdown",
      "source": [
        "Analyse of thet offense"
      ],
      "metadata": {
        "id": "L1IA9JPAyA1j"
      }
    },
    {
      "cell_type": "code",
      "source": [
        "plt.barh(theft_df['OFFENSE'].value_counts().index, theft_df['OFFENSE'].value_counts())\n",
        "plt.xlabel('Number of Arrests')\n",
        "plt.ylabel('Offense')\n",
        "plt.title('Theft Arrests by Offense')\n",
        "plt.show()"
      ],
      "metadata": {
        "id": "-LaIrGyzyGZP"
      },
      "execution_count": null,
      "outputs": []
    },
    {
      "cell_type": "markdown",
      "source": [
        "other theft offense visualization"
      ],
      "metadata": {
        "id": "dz29g4CLz6aD"
      }
    },
    {
      "cell_type": "code",
      "source": [
        "plt.pie(theft_df['OFFENSE'].value_counts(), labels=theft_df['OFFENSE'].value_counts().index, autopct='%1.1f%%')\n",
        "plt.title('Theft Arrests by Offense')\n",
        "plt.show()"
      ],
      "metadata": {
        "id": "yAyKrb_tzrwr"
      },
      "execution_count": null,
      "outputs": []
    },
    {
      "cell_type": "code",
      "source": [
        "plt.scatter(theft_df['AGE'], theft_df['OFFENSE'])\n",
        "plt.xlabel('AGE')\n",
        "plt.ylabel('OFFENSE')\n",
        "plt.title('Theft Arrests by AGE')\n",
        "plt.show()"
      ],
      "metadata": {
        "id": "bltDULxp0Qxu"
      },
      "execution_count": null,
      "outputs": []
    },
    {
      "cell_type": "code",
      "source": [
        "sns.pairplot(theft_df)\n",
        "plt.show()"
      ],
      "metadata": {
        "id": "80vFSKpR1ZdE"
      },
      "execution_count": null,
      "outputs": []
    }
  ]
}